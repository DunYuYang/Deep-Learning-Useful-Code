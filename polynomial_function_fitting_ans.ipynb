{
 "cells": [
  {
   "cell_type": "markdown",
   "metadata": {},
   "source": [
    "# **如何擬合多項式函數 $f(x)=6x^2-4x+1$**"
   ]
  },
  {
   "cell_type": "markdown",
   "metadata": {},
   "source": [
    "#### 此為 simple_linear_regression.ipynb 裡 Exercise 的參考解答"
   ]
  },
  {
   "cell_type": "code",
   "execution_count": 1,
   "metadata": {},
   "outputs": [],
   "source": [
    "import numpy as np\n",
    "import tensorflow as tf\n",
    "from tensorflow import keras\n",
    "from tensorflow.keras import layers\n",
    "from tensorflow.keras.utils import plot_model\n",
    "\n",
    "import matplotlib.pyplot as plt"
   ]
  },
  {
   "cell_type": "code",
   "execution_count": 2,
   "metadata": {},
   "outputs": [
    {
     "data": {
      "image/png": "[encoded data removed]",
      "text/plain": [
       "<Figure size 720x576 with 1 Axes>"
      ]
     },
     "metadata": {
      "needs_background": "light"
     },
     "output_type": "display_data"
    }
   ],
   "source": [
    "# 準備資料\n",
    "x_in = np.linspace(-1, 1, 200)\n",
    "y_true = 6 * x_in**2 - 4 * x_in + 1 + np.random.rand(len(x_in))\n",
    "\n",
    "# 資料視覺化\n",
    "plt.figure(figsize=(10, 8))\n",
    "plt.scatter(x_in, y_true)\n",
    "plt.title(r' $y = 6x^2 -4x + 1 + \\epsilon $')\n",
    "plt.axis(xmin=-1, xmax=1)\n",
    "plt.show()"
   ]
  },
  {
   "cell_type": "code",
   "execution_count": 3,
   "metadata": {},
   "outputs": [],
   "source": [
    "# 將訓練資料看為二維的資料 X = (x^2, x)\n",
    "X = np.stack((np.square(x_in), x_in), axis=1)"
   ]
  },
  {
   "cell_type": "code",
   "execution_count": 4,
   "metadata": {},
   "outputs": [
    {
     "name": "stdout",
     "output_type": "stream",
     "text": [
      "Model: \"sequential\"\n",
      "_________________________________________________________________\n",
      "Layer (type)                 Output Shape              Param #   \n",
      "=================================================================\n",
      "dense (Dense)                (None, 1)                 3         \n",
      "=================================================================\n",
      "Total params: 3\n",
      "Trainable params: 3\n",
      "Non-trainable params: 0\n",
      "_________________________________________________________________\n"
     ]
    }
   ],
   "source": [
    "# 建構模型\n",
    "model = keras.Sequential()\n",
    "model.add(layers.Dense(1, use_bias=True, input_shape=(2,)))\n",
    "model.summary()"
   ]
  },
  {
   "cell_type": "code",
   "execution_count": 5,
   "metadata": {},
   "outputs": [],
   "source": [
    "# 編譯模型用以訓練 (設定 optimizer, loss function, metrics, 等等)\n",
    "model.compile(loss='mean_squared_error',\n",
    "              optimizer=keras.optimizers.SGD(learning_rate=0.1))"
   ]
  },
  {
   "cell_type": "code",
   "execution_count": 6,
   "metadata": {},
   "outputs": [
    {
     "name": "stdout",
     "output_type": "stream",
     "text": [
      "Train on 200 samples\n",
      "Epoch 1/50\n",
      "200/200 [==============================] - 1s 3ms/sample - loss: 10.1399\n",
      "Epoch 2/50\n",
      "200/200 [==============================] - 0s 59us/sample - loss: 3.0671\n",
      "Epoch 3/50\n",
      "200/200 [==============================] - 0s 65us/sample - loss: 1.9478\n",
      "Epoch 4/50\n",
      "200/200 [==============================] - 0s 67us/sample - loss: 1.3985\n",
      "Epoch 5/50\n",
      "200/200 [==============================] - 0s 78us/sample - loss: 1.0810\n",
      "Epoch 6/50\n",
      "200/200 [==============================] - 0s 65us/sample - loss: 0.8674\n",
      "Epoch 7/50\n",
      "200/200 [==============================] - 0s 69us/sample - loss: 0.7006\n",
      "Epoch 8/50\n",
      "200/200 [==============================] - 0s 70us/sample - loss: 0.5647\n",
      "Epoch 9/50\n",
      "200/200 [==============================] - 0s 74us/sample - loss: 0.4731\n",
      "Epoch 10/50\n",
      "200/200 [==============================] - 0s 67us/sample - loss: 0.3924\n",
      "Epoch 11/50\n",
      "200/200 [==============================] - 0s 68us/sample - loss: 0.3286\n",
      "Epoch 12/50\n",
      "200/200 [==============================] - 0s 74us/sample - loss: 0.2795\n",
      "Epoch 13/50\n",
      "200/200 [==============================] - 0s 73us/sample - loss: 0.2389\n",
      "Epoch 14/50\n",
      "200/200 [==============================] - 0s 72us/sample - loss: 0.2087\n",
      "Epoch 15/50\n",
      "200/200 [==============================] - 0s 78us/sample - loss: 0.1839\n",
      "Epoch 16/50\n",
      "200/200 [==============================] - 0s 83us/sample - loss: 0.1634\n",
      "Epoch 17/50\n",
      "200/200 [==============================] - 0s 81us/sample - loss: 0.1452\n",
      "Epoch 18/50\n",
      "200/200 [==============================] - 0s 85us/sample - loss: 0.1346\n",
      "Epoch 19/50\n",
      "200/200 [==============================] - 0s 82us/sample - loss: 0.1246\n",
      "Epoch 20/50\n",
      "200/200 [==============================] - 0s 83us/sample - loss: 0.1173\n",
      "Epoch 21/50\n",
      "200/200 [==============================] - 0s 79us/sample - loss: 0.1110\n",
      "Epoch 22/50\n",
      "200/200 [==============================] - 0s 77us/sample - loss: 0.1067\n",
      "Epoch 23/50\n",
      "200/200 [==============================] - 0s 81us/sample - loss: 0.1028\n",
      "Epoch 24/50\n",
      "200/200 [==============================] - 0s 83us/sample - loss: 0.0989\n",
      "Epoch 25/50\n",
      "200/200 [==============================] - 0s 82us/sample - loss: 0.0971\n",
      "Epoch 26/50\n",
      "200/200 [==============================] - 0s 84us/sample - loss: 0.0947\n",
      "Epoch 27/50\n",
      "200/200 [==============================] - 0s 88us/sample - loss: 0.0931\n",
      "Epoch 28/50\n",
      "200/200 [==============================] - 0s 85us/sample - loss: 0.0923\n",
      "Epoch 29/50\n",
      "200/200 [==============================] - 0s 87us/sample - loss: 0.0904\n",
      "Epoch 30/50\n",
      "200/200 [==============================] - 0s 90us/sample - loss: 0.0903\n",
      "Epoch 31/50\n",
      "200/200 [==============================] - 0s 91us/sample - loss: 0.0891\n",
      "Epoch 32/50\n",
      "200/200 [==============================] - 0s 85us/sample - loss: 0.0885\n",
      "Epoch 33/50\n",
      "200/200 [==============================] - 0s 82us/sample - loss: 0.0889\n",
      "Epoch 34/50\n",
      "200/200 [==============================] - 0s 81us/sample - loss: 0.0882\n",
      "Epoch 35/50\n",
      "200/200 [==============================] - 0s 89us/sample - loss: 0.0884\n",
      "Epoch 36/50\n",
      "200/200 [==============================] - 0s 73us/sample - loss: 0.0880\n",
      "Epoch 37/50\n",
      "200/200 [==============================] - 0s 88us/sample - loss: 0.0874\n",
      "Epoch 38/50\n",
      "200/200 [==============================] - 0s 89us/sample - loss: 0.0878\n",
      "Epoch 39/50\n",
      "200/200 [==============================] - 0s 83us/sample - loss: 0.0869\n",
      "Epoch 40/50\n",
      "200/200 [==============================] - 0s 72us/sample - loss: 0.0867\n",
      "Epoch 41/50\n",
      "200/200 [==============================] - 0s 74us/sample - loss: 0.0869\n",
      "Epoch 42/50\n",
      "200/200 [==============================] - 0s 77us/sample - loss: 0.0867\n",
      "Epoch 43/50\n",
      "200/200 [==============================] - 0s 80us/sample - loss: 0.0872\n",
      "Epoch 44/50\n",
      "200/200 [==============================] - 0s 78us/sample - loss: 0.0876\n",
      "Epoch 45/50\n",
      "200/200 [==============================] - 0s 72us/sample - loss: 0.0867\n",
      "Epoch 46/50\n",
      "200/200 [==============================] - 0s 87us/sample - loss: 0.0866\n",
      "Epoch 47/50\n",
      "200/200 [==============================] - 0s 80us/sample - loss: 0.0868\n",
      "Epoch 48/50\n",
      "200/200 [==============================] - 0s 91us/sample - loss: 0.0872\n",
      "Epoch 49/50\n",
      "200/200 [==============================] - 0s 89us/sample - loss: 0.0876\n",
      "Epoch 50/50\n",
      "200/200 [==============================] - 0s 81us/sample - loss: 0.0884\n"
     ]
    },
    {
     "data": {
      "text/plain": [
       "<tensorflow.python.keras.callbacks.History at 0x7f158c0fd208>"
      ]
     },
     "execution_count": 6,
     "metadata": {},
     "output_type": "execute_result"
    }
   ],
   "source": [
    "# 訓練模型\n",
    "model.fit(X, y_true, epochs=50)  # 一個 epoch 會看過一次所有的資料"
   ]
  },
  {
   "cell_type": "code",
   "execution_count": 7,
   "metadata": {},
   "outputs": [
    {
     "name": "stdout",
     "output_type": "stream",
     "text": [
      "W_pred:\n",
      " [[ 6.090077 ]\n",
      " [-3.9386337]] \n",
      "b_pred:\n",
      " [1.5129001]\n"
     ]
    }
   ],
   "source": [
    "# 檢視訓練後的權重值\n",
    "W_pred = model.get_weights()[0]\n",
    "b_pred = model.get_weights()[1]\n",
    "print('W_pred:\\n', W_pred, '\\nb_pred:\\n', b_pred)"
   ]
  },
  {
   "cell_type": "code",
   "execution_count": 8,
   "metadata": {},
   "outputs": [],
   "source": [
    "# 模型預測\n",
    "y_pred = model.predict(X)"
   ]
  },
  {
   "cell_type": "code",
   "execution_count": 9,
   "metadata": {},
   "outputs": [
    {
     "data": {
      "text/plain": [
       "Text(0.5, 1.0, ' Approaching function $ y = 6.0901x^2 + -3.9386x + 1.5129 + \\\\epsilon $')"
      ]
     },
     "execution_count": 9,
     "metadata": {},
     "output_type": "execute_result"
    },
    {
     "data": {
      "image/png": "[encoded data removed]",
      "text/plain": [
       "<Figure size 720x576 with 1 Axes>"
      ]
     },
     "metadata": {
      "needs_background": "light"
     },
     "output_type": "display_data"
    }
   ],
   "source": [
    "# 視覺化結果\n",
    "plt.figure(figsize=(10, 8))\n",
    "plt.scatter(x_in, y_true)\n",
    "plt.plot(x_in, y_pred, 'r')\n",
    "plt.title(r' Approaching function $ y = %1.4fx^2 + %1.4fx + %1.4f + \\epsilon $'\n",
    "          % (W_pred[0], W_pred[1], b_pred[0]))"
   ]
  },
  {
   "cell_type": "markdown",
   "metadata": {},
   "source": [
    "# **如果 target 與 data 之間的關係十分複雜且是非線性，怎麼設計架構？**"
   ]
  },
  {
   "cell_type": "markdown",
   "metadata": {},
   "source": [
    "* ## **透過深層 (hidden layers)、寬廣 (neurons) 的網路增加複雜度**"
   ]
  },
  {
   "cell_type": "markdown",
   "metadata": {},
   "source": [
    "### 類神經網路中皆是以上層輸入的線性組合作為這一層的輸出（也就是矩陣相乘），則輸出和輸入依然脫離不了線性關係。"
   ]
  },
  {
   "cell_type": "markdown",
   "metadata": {},
   "source": [
    "* ## **透過激活函數 (Activation function) 增加非線性因子**"
   ]
  }
 ],
 "metadata": {
  "kernelspec": {
   "display_name": "Python 3",
   "language": "python",
   "name": "python3"
  },
  "language_info": {
   "codemirror_mode": {
    "name": "ipython",
    "version": 3
   },
   "file_extension": ".py",
   "mimetype": "text/x-python",
   "name": "python",
   "nbconvert_exporter": "python",
   "pygments_lexer": "ipython3",
   "version": "3.7.3"
  }
 },
 "nbformat": 4,
 "nbformat_minor": 4
}
